{
 "cells": [
  {
   "cell_type": "code",
   "execution_count": 1,
   "id": "31c4e4f7",
   "metadata": {},
   "outputs": [],
   "source": [
    "from selenium import webdriver\n",
    "from selenium.webdriver.common.keys import Keys\n",
    "from selenium.webdriver.support import expected_conditions as EC\n",
    "from selenium.webdriver.common.by import By\n",
    "from selenium.webdriver.support.wait import WebDriverWait\n",
    "import time\n",
    "from bs4 import BeautifulSoup"
   ]
  },
  {
   "cell_type": "code",
   "execution_count": 2,
   "id": "89910c3e",
   "metadata": {},
   "outputs": [],
   "source": [
    "driver = webdriver.Firefox()\n",
    "driver.get(\"https://www.instagram.com/\")\n",
    "\n",
    "username = WebDriverWait(driver,10).until(EC.element_to_be_clickable((By.CSS_SELECTOR,\"input[name='username']\")))\n",
    "password = WebDriverWait(driver,10).until(EC.element_to_be_clickable((By.CSS_SELECTOR, \"input[name='password']\")))\n",
    "\n",
    "username.clear()\n",
    "password.clear()\n",
    "\n",
    "username.send_keys(\"meme_thinkgs\")\n",
    "password.send_keys(\"#Un2known\")\n",
    "\n",
    "#button = WebDriverWait(driver,2).until(EC.element_to_be_clickable((By.CSS_SELECTOR,\"input[button='submit']\"))).click()\n",
    "button = WebDriverWait(driver,2).until(EC.element_to_be_clickable((By.CSS_SELECTOR, \"button[type='submit']\"))).click()"
   ]
  },
  {
   "cell_type": "code",
   "execution_count": 3,
   "id": "49a705ee",
   "metadata": {},
   "outputs": [],
   "source": [
    "time.sleep(5)\n",
    "alert = WebDriverWait(driver, 15).until(EC.element_to_be_clickable((By.XPATH, \"//div[text()='Not now']\"))).click()\n",
    "alert2 = WebDriverWait(driver, 15).until(EC.element_to_be_clickable((By.XPATH, '//button[contains(text(), \"Not Now\")]'))).click()\n",
    "\n"
   ]
  },
  {
   "cell_type": "code",
   "execution_count": 4,
   "id": "65ef9667",
   "metadata": {},
   "outputs": [],
   "source": [
    "searchbox = WebDriverWait(driver, 15).until(EC.element_to_be_clickable((By.XPATH, '//span[contains(text(), \"Search\")]'))).click()"
   ]
  },
  {
   "cell_type": "code",
   "execution_count": 5,
   "id": "123a709a",
   "metadata": {},
   "outputs": [],
   "source": [
    "searchbox_input = WebDriverWait(driver, 10).until(EC.element_to_be_clickable((By.XPATH, \"//input[@placeholder='Search']\")))\n",
    "searchbox_input.clear()\n",
    "keyword = 'vitv26'\n",
    "searchbox_input.send_keys(keyword)"
   ]
  },
  {
   "cell_type": "code",
   "execution_count": 7,
   "id": "7d463417",
   "metadata": {},
   "outputs": [],
   "source": [
    "searchbox_enter = WebDriverWait(driver, 15).until(EC.element_to_be_clickable((By.XPATH, '//span[contains(text(), \"vitv26\")]'))).click()"
   ]
  },
  {
   "cell_type": "code",
   "execution_count": 8,
   "id": "c6ebdb78",
   "metadata": {},
   "outputs": [],
   "source": [
    "followers = WebDriverWait(driver, 15).until(EC.element_to_be_clickable((By.XPATH, '//a[contains(text(), \"followers\")]'))).click()"
   ]
  },
  {
   "cell_type": "code",
   "execution_count": 9,
   "id": "edabb57e",
   "metadata": {},
   "outputs": [],
   "source": [
    "popup_div = WebDriverWait(driver, 10).until(EC.presence_of_element_located((By.CLASS_NAME, '_aano')))\n",
    "while True:\n",
    "    driver.execute_script(\"arguments[0].scrollTop = arguments[0].scrollHeight;\", popup_div)\n",
    "    import time\n",
    "    time.sleep(2)\n",
    "\n",
    "    current_scroll_height = driver.execute_script(\"return arguments[0].scrollHeight;\", popup_div)\n",
    "    driver.execute_script(\"arguments[0].scrollTop = arguments[0].scrollHeight;\", popup_div)\n",
    "    time.sleep(2)\n",
    "    updated_scroll_height = driver.execute_script(\"return arguments[0].scrollHeight;\", popup_div)\n",
    "    if current_scroll_height == updated_scroll_height:\n",
    "        break"
   ]
  },
  {
   "cell_type": "code",
   "execution_count": null,
   "id": "4682c8ff",
   "metadata": {},
   "outputs": [],
   "source": [
    "page_source = driver.page_source\n",
    "soup = BeautifulSoup(page_source, 'html.parser')\n",
    "soup"
   ]
  },
  {
   "cell_type": "code",
   "execution_count": null,
   "id": "31fff1ba",
   "metadata": {},
   "outputs": [],
   "source": [
    "span_elements_usernames = soup.find_all('span', class_='_ap3a _aaco _aacw _aacx _aad7 _aade')\n",
    "span_elements_names = soup.find_all('span', class_='x1lliihq x193iq5w x6ikm8r x10wlt62 xlyipyv xuxw1ft_ap3a _aaco _aacw _aacx _aad7 _aade')\n",
    "\n",
    "usernames = [span.text for span in span_elements_usernames]\n",
    "names = [span.text for span in span_elements_names]"
   ]
  }
 ],
 "metadata": {
  "kernelspec": {
   "display_name": "Python 3 (ipykernel)",
   "language": "python",
   "name": "python3"
  },
  "language_info": {
   "codemirror_mode": {
    "name": "ipython",
    "version": 3
   },
   "file_extension": ".py",
   "mimetype": "text/x-python",
   "name": "python",
   "nbconvert_exporter": "python",
   "pygments_lexer": "ipython3",
   "version": "3.10.9"
  }
 },
 "nbformat": 4,
 "nbformat_minor": 5
}
